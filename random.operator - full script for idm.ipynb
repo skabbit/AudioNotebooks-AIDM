{
 "cells": [
  {
   "cell_type": "markdown",
   "metadata": {},
   "source": [
    "# script 1: Collect Samples\n",
    "This tool converts a folder of samples to a big rectangular matrix with one mono sample per row.\n",
    "\n",
    "Samples should be placed in `data/mydataset/samples/`. They could be `.mp3`, `.wav`, or anything else that ffmpeg can work with. They may be all in one folder, or in nested sub-folders.\n",
    "\n",
    "Change the path below to point to the root directory, e.g., `data/mydataset/`.\n",
    "\n",
    "The samplerate `sr` is not necessarily the native samplerate of the samples, it's the samplerate you want to load them at.\n",
    "\n",
    "The output of this notebook is:\n",
    "* `data/mydataset/durations.txt`\n",
    "* `data/mydataset/filenames.txt`\n",
    "* `data/mydataset/samples.npy`"
   ]
  },
  {
   "cell_type": "code",
   "execution_count": 1,
   "metadata": {
    "ExecuteTime": {
     "end_time": "2018-02-27T02:53:58.993258",
     "start_time": "2018-02-27T02:53:58.986126"
    }
   },
   "outputs": [],
   "source": [
    "data_root = \"/Users/skabbit/Projects/chosician/data_sets/short stones/\"\n",
    "idm_root = '/Users/skabbit/Projects/chosician/builds/new/aiexperiments-drum-machine/'\n",
    "\n",
    "sr = 44100\n",
    "max_length = sr*4 # ignore samples longer than 4 seconds\n",
    "seg_time = 250 # ms (default was 250)\n",
    "fixed_length = sr * seg_time / 1000\n",
    "# fixed_length = sr/4 # trim all samples to 250 milliseconds\n",
    "\n",
    "limit = None # set this to 100 to only load the first 100 samples, and None to load all samples if all works good."
   ]
  },
  {
   "cell_type": "code",
   "execution_count": 2,
   "metadata": {
    "ExecuteTime": {
     "end_time": "2018-02-27T02:53:59.012178",
     "start_time": "2018-02-27T02:53:58.996371"
    }
   },
   "outputs": [],
   "source": [
    "import numpy as np\n",
    "from os.path import join\n",
    "from utils import *\n",
    "from multiprocessing import Pool"
   ]
  },
  {
   "cell_type": "code",
   "execution_count": 3,
   "metadata": {
    "ExecuteTime": {
     "end_time": "2018-02-27T02:53:59.955195",
     "start_time": "2018-02-27T02:53:59.015057"
    }
   },
   "outputs": [
    {
     "data": {
      "text/plain": [
       "787"
      ]
     },
     "execution_count": 3,
     "metadata": {},
     "output_type": "execute_result"
    }
   ],
   "source": [
    "files = list(list_all_files(join(data_root), ['.wav']))[:limit]\n",
    "len(files)"
   ]
  },
  {
   "cell_type": "code",
   "execution_count": 4,
   "metadata": {
    "ExecuteTime": {
     "end_time": "2018-02-27T02:53:59.981856",
     "start_time": "2018-02-27T02:53:59.959011"
    }
   },
   "outputs": [],
   "source": [
    "import os\n",
    "def load_sample(fn, sr=None,\n",
    "                max_length=None, fixed_length=None, normalize=True):\n",
    "    if fn == '': # ignore empty filenames\n",
    "        return None\n",
    "    if not os.path.exists(fn):\n",
    "        print('no file' + fn)\n",
    "        return None\n",
    "    audio, _ = ffmpeg_load_audio(fn, sr, mono=True)\n",
    "    duration = len(audio)\n",
    "\n",
    "    if duration == 0: # ignore zero-length samples\n",
    "        return None\n",
    "    if max_length and duration >= max_length: # ignore long samples\n",
    "        return None \n",
    "    if fixed_length:\n",
    "        audio.resize(fixed_length)\n",
    "    max_val = np.abs(audio).max()\n",
    "    if max_val == 0: # ignore completely silent sounds\n",
    "        return None\n",
    "    if normalize:\n",
    "        audio /= max_val\n",
    "    return (fn, audio, duration)"
   ]
  },
  {
   "cell_type": "code",
   "execution_count": 5,
   "metadata": {
    "ExecuteTime": {
     "end_time": "2018-02-27T02:57:12.327549",
     "start_time": "2018-02-27T02:53:59.986942"
    }
   },
   "outputs": [
    {
     "name": "stdout",
     "output_type": "stream",
     "text": [
      "('Processed', 787, 'samples')\n"
     ]
    }
   ],
   "source": [
    "# results = []\n",
    "# for fn in files:\n",
    "#     results.append(load_sample(fn, sr=sr, max_length=max_length, fixed_length=fixed_length))\n",
    "\n",
    "def job(fn):\n",
    "    return load_sample(fn, sr=sr,\n",
    "                       max_length=max_length, fixed_length=fixed_length)\n",
    "\n",
    "pool = Pool()\n",
    "results = pool.map(job, files[:limit])\n",
    "print('Processed', len(results), 'samples')"
   ]
  },
  {
   "cell_type": "code",
   "execution_count": 6,
   "metadata": {
    "ExecuteTime": {
     "end_time": "2018-02-27T02:57:14.554511",
     "start_time": "2018-02-27T02:57:12.332586"
    }
   },
   "outputs": [
    {
     "name": "stdout",
     "output_type": "stream",
     "text": [
      "('Saved', 786, 'samples')\n"
     ]
    }
   ],
   "source": [
    "valid = filter(None, results)\n",
    "filenames = [x[0] for x in valid]\n",
    "samples = [x[1] for x in valid]\n",
    "durations = [x[2] for x in valid]\n",
    "samples = np.asarray(samples)\n",
    "np.savetxt(join(data_root, 'filenames.txt'), map(lambda x: x.rsplit('/')[-1], filenames), fmt='%s')\n",
    "np.savetxt(join(data_root, 'durations.txt'), durations, fmt='%i')\n",
    "np.save(join(data_root, 'samples.npy'), samples)\n",
    "print('Saved', len(valid), 'samples')"
   ]
  },
  {
   "cell_type": "markdown",
   "metadata": {},
   "source": [
    "# script 2: Samples to Fingerprints\n",
    "This notebook converts `samples.npy` to `fingerprints.npy`. After processing, check the max and mean images to make sure that you are not over- or under-cropping the data. Set `crop_rows` or `crop_cols` to `None` to see all the data."
   ]
  },
  {
   "cell_type": "code",
   "execution_count": 7,
   "metadata": {
    "ExecuteTime": {
     "end_time": "2018-02-27T02:57:14.565652",
     "start_time": "2018-02-27T02:57:14.557501"
    }
   },
   "outputs": [],
   "source": [
    "n_fft = 1024\n",
    "hop_length = n_fft/4\n",
    "use_logamp = False # boost the brightness of quiet sounds\n",
    "reduce_rows = 10 # how many frequency bands to average into one\n",
    "reduce_cols = 1 # how many time steps to average into one\n",
    "crop_rows = 32 # limit how many frequency bands to use\n",
    "crop_cols = 32 # limit how many time steps to use\n",
    "limit = None # set this to 100 to only process 100 samples"
   ]
  },
  {
   "cell_type": "code",
   "execution_count": 8,
   "metadata": {
    "ExecuteTime": {
     "end_time": "2018-02-27T02:57:19.755870",
     "start_time": "2018-02-27T02:57:14.570371"
    }
   },
   "outputs": [
    {
     "name": "stderr",
     "output_type": "stream",
     "text": [
      "/Users/skabbit/Projects/chosician/.conda/lib/python2.7/site-packages/librosa/__init__.py:35: FutureWarning: You are using librosa with Python 2. Please note that librosa 0.7 will be the last version to support Python 2, after which it will require Python 3 or later.\n",
      "  FutureWarning)\n"
     ]
    }
   ],
   "source": [
    "%matplotlib inline\n",
    "from utils import *\n",
    "from tqdm import *\n",
    "from os.path import join\n",
    "from matplotlib import pyplot as plt\n",
    "from skimage.measure import block_reduce\n",
    "from multiprocessing import Pool\n",
    "import numpy as np\n",
    "import librosa"
   ]
  },
  {
   "cell_type": "code",
   "execution_count": 9,
   "metadata": {
    "ExecuteTime": {
     "end_time": "2018-02-27T02:57:19.763619",
     "start_time": "2018-02-27T02:57:19.758454"
    }
   },
   "outputs": [],
   "source": [
    "# %time samples = np.load(join(data_root, 'samples.npy'))"
   ]
  },
  {
   "cell_type": "code",
   "execution_count": 10,
   "metadata": {
    "ExecuteTime": {
     "end_time": "2018-02-27T02:57:27.656448",
     "start_time": "2018-02-27T02:57:19.767903"
    }
   },
   "outputs": [],
   "source": [
    "window = np.hanning(n_fft)\n",
    "def job(y):\n",
    "    S = librosa.stft(y, n_fft=n_fft, hop_length=hop_length, window=window)\n",
    "    amp = np.abs(S)\n",
    "    if reduce_rows > 1 or reduce_cols > 1:\n",
    "        amp = block_reduce(amp, (reduce_rows, reduce_cols), func=np.mean)\n",
    "    if amp.shape[1] < crop_cols:\n",
    "        amp = np.pad(amp, ((0, 0), (0, crop_cols-amp.shape[1])), 'constant')\n",
    "    amp = amp[:crop_rows, :crop_cols]\n",
    "    if use_logamp:\n",
    "        amp = librosa.logamplitude(amp**2)\n",
    "    amp -= amp.min()\n",
    "    if amp.max() > 0:\n",
    "        amp /= amp.max()\n",
    "    amp = np.flipud(amp) # for visualization, put low frequencies on bottom\n",
    "    return amp\n",
    "pool = Pool()\n",
    "fingerprints = pool.map(job, samples[:limit])\n",
    "fingerprints = np.asarray(fingerprints).astype(np.float32)"
   ]
  },
  {
   "cell_type": "code",
   "execution_count": 11,
   "metadata": {
    "ExecuteTime": {
     "end_time": "2018-02-27T02:57:27.854701",
     "start_time": "2018-02-27T02:57:27.661666"
    }
   },
   "outputs": [],
   "source": [
    "np.save(join(data_root, 'fingerprints.npy'), fingerprints)"
   ]
  },
  {
   "cell_type": "code",
   "execution_count": 12,
   "metadata": {
    "ExecuteTime": {
     "end_time": "2018-02-27T02:57:28.787832",
     "start_time": "2018-02-27T02:57:27.857215"
    }
   },
   "outputs": [
    {
     "name": "stdout",
     "output_type": "stream",
     "text": [
      "('data shape:', (786, 32, 32))\n",
      "mean:\n"
     ]
    },
    {
     "data": {
      "image/png": "[encoded data removed]",
      "text/plain": [
       "<IPython.core.display.Image object>"
      ]
     },
     "metadata": {},
     "output_type": "display_data"
    },
    {
     "name": "stdout",
     "output_type": "stream",
     "text": [
      "max:\n"
     ]
    },
    {
     "data": {
      "image/png": "[encoded data removed]",
      "text/plain": [
       "<IPython.core.display.Image object>"
      ]
     },
     "metadata": {},
     "output_type": "display_data"
    },
    {
     "name": "stdout",
     "output_type": "stream",
     "text": [
      "random selection:\n"
     ]
    },
    {
     "data": {
      "image/png": "[encoded data removed]",
      "text/plain": [
       "<IPython.core.display.Image object>"
      ]
     },
     "metadata": {},
     "output_type": "display_data"
    }
   ],
   "source": [
    "print('data shape:', np.shape(fingerprints))\n",
    "\n",
    "mean = np.mean(fingerprints, axis=0)\n",
    "mean -= mean.min()\n",
    "mean /= mean.max()\n",
    "\n",
    "print('mean:')\n",
    "show_array(255 * mean)\n",
    "print('max:')\n",
    "show_array(255 * np.max(fingerprints, axis=0))\n",
    "\n",
    "print('random selection:')\n",
    "indices = range(len(fingerprints))\n",
    "np.random.shuffle(indices)\n",
    "show_array(255 * make_mosaic(np.array(fingerprints)[indices], n=16))"
   ]
  },
  {
   "cell_type": "markdown",
   "metadata": {},
   "source": [
    "# script 3: Fingerprints to t-SNE\n",
    "This converts `fingerprints.npy` to `.tsv` formatted t-SNE embeddings and plots of those embeddings in the `tsne/` and `plot/` folders respectively. If you add multiple values to `perplexity` and `initial_dims` then all combinations will be computed (in parallel). Good perplexities are in the range 1-200 with the best range around 30-100. Good `initial_dims` are in the range 30 and higher, with the dimensionality of your input data being the highest possible value (e.g., a 32x32 fingerprint would have a highest possible `initial_dims` value of 32x32=1024).\n",
    "\n",
    "Change the \"mode\" to try different t-SNE variations.\n",
    "* \"fingerprints\" will only use `fingerprints.npy`\n",
    "* \"predicted_labels\" will only use `predicted_labels.npy`\n",
    "* \"predicted_encoding\" will only use `predicted_encoding.npy`\n",
    "* \"combined\" will use all of the above data"
   ]
  },
  {
   "cell_type": "code",
   "execution_count": 13,
   "metadata": {
    "ExecuteTime": {
     "end_time": "2018-02-27T02:57:28.800135",
     "start_time": "2018-02-27T02:57:28.794586"
    }
   },
   "outputs": [],
   "source": [
    "initial_dims = [30]\n",
    "perplexities = [30]\n",
    "mode = 'fingerprints'\n",
    "# mode = 'predicted_labels'\n",
    "# mode = 'predicted_encoding'\n",
    "# mode = 'combined'"
   ]
  },
  {
   "cell_type": "code",
   "execution_count": 14,
   "metadata": {
    "ExecuteTime": {
     "end_time": "2018-02-27T02:57:28.821539",
     "start_time": "2018-02-27T02:57:28.804722"
    }
   },
   "outputs": [],
   "source": [
    "%matplotlib inline\n",
    "from matplotlib import pyplot as plt\n",
    "from time import time\n",
    "from utils import *\n",
    "from os.path import join\n",
    "from multiprocessing import Pool\n",
    "import numpy as np\n",
    "import itertools"
   ]
  },
  {
   "cell_type": "code",
   "execution_count": 15,
   "metadata": {
    "ExecuteTime": {
     "end_time": "2018-02-27T02:57:28.873873",
     "start_time": "2018-02-27T02:57:28.825188"
    }
   },
   "outputs": [],
   "source": [
    "def save_tsv(data, fn):\n",
    "    np.savetxt(fn, data, fmt='%.5f', delimiter='\\t')\n",
    "def tsne(data, data_root, prefix, initial_dims=30, perplexity=30):\n",
    "    mkdir_p(data_root + 'tsne')\n",
    "    mkdir_p(data_root + 'plot')\n",
    "    \n",
    "    figsize = (16,16)\n",
    "    pointsize = 2\n",
    "\n",
    "    X_2d = list(bh_tsne(data, initial_dims=initial_dims, perplexity=perplexity, no_dims=2))\n",
    "    X_2d = normalize(np.array(X_2d))\n",
    "    save_tsv(X_2d, join(data_root, 'tsne/{}.{}.{}.2d.tsv'.format(prefix, initial_dims, perplexity)))\n",
    "    \n",
    "    plt.figure(figsize=figsize)\n",
    "    plt.scatter(X_2d[:,0], X_2d[:,1], edgecolor='', s=pointsize)\n",
    "    plt.tight_layout()\n",
    "    plt.savefig(join(data_root, 'plot/{}.{}.{}.png'.format(prefix, initial_dims, perplexity)))\n",
    "    plt.close()\n",
    "    \n",
    "    X_3d = list(bh_tsne(data, initial_dims=initial_dims, perplexity=perplexity, no_dims=3))\n",
    "    X_3d = normalize(np.array(X_3d))\n",
    "    save_tsv(X_3d, join(data_root, 'tsne/{}.{}.{}.3d.tsv'.format(prefix, initial_dims, perplexity)))\n",
    "    \n",
    "    plt.figure(figsize=figsize)\n",
    "    plt.scatter(X_2d[:,0], X_2d[:,1], edgecolor='', s=pointsize, c=X_3d)\n",
    "    plt.tight_layout()\n",
    "    plt.savefig(join(data_root, 'plot/{}.{}.{}.png'.format(prefix, initial_dims, perplexity)))\n",
    "    plt.close()"
   ]
  },
  {
   "cell_type": "code",
   "execution_count": 16,
   "metadata": {
    "ExecuteTime": {
     "end_time": "2018-02-27T02:57:28.939625",
     "start_time": "2018-02-27T02:57:28.877790"
    }
   },
   "outputs": [
    {
     "name": "stdout",
     "output_type": "stream",
     "text": [
      "(786, 1024)\n"
     ]
    }
   ],
   "source": [
    "# load and normalize any dataset we need\n",
    "if mode == 'fingerprints' or mode == 'combined':\n",
    "    fingerprints = np.load(join(data_root, 'fingerprints.npy'))\n",
    "    fingerprints = fingerprints.reshape(len(fingerprints), -1)\n",
    "if mode == 'predicted_labels' or mode == 'combined':\n",
    "    predicted_labels = np.load(join(data_root, 'predicted_labels.npy'))\n",
    "    predicted_labels -= predicted_labels.min()\n",
    "    predicted_labels /= predicted_labels.max()\n",
    "if mode == 'predicted_encoding' or mode == 'combined':\n",
    "    predicted_encoding = np.load(join(data_root, 'predicted_encoding.npy'))\n",
    "    std = predicted_encoding.std(axis=0)\n",
    "    predicted_encoding = predicted_encoding[:, std > 0] / std[std > 0]\n",
    "    \n",
    "if mode == 'fingerprints':\n",
    "    data = fingerprints\n",
    "if mode == 'predicted_labels':\n",
    "    data = predicted_labels\n",
    "if mode == 'predicted_encoding':\n",
    "    data = predicted_encoding\n",
    "if mode == 'combined':\n",
    "    data = np.hstack((fingerprints, predicted_labels, predicted_encoding))\n",
    "    \n",
    "print(data.shape)"
   ]
  },
  {
   "cell_type": "code",
   "execution_count": null,
   "metadata": {
    "ExecuteTime": {
     "end_time": "2018-02-27T03:01:54.344095",
     "start_time": "2018-02-27T02:57:28.944412"
    }
   },
   "outputs": [
    {
     "name": "stderr",
     "output_type": "stream",
     "text": [
      "utils/bhtsne.py:129: ComplexWarning: Casting complex values to real discards the imaginary part\n",
      "  data_file.write(pack('{}d'.format(len(sample)), *sample))\n"
     ]
    }
   ],
   "source": [
    "data = data.astype(np.float64)\n",
    "def job(params):\n",
    "    start = time()\n",
    "    tsne(data, data_root, mode, initial_dims=params[0], perplexity=params[1])\n",
    "    print 'initial_dims={}, perplexity={}, {} seconds'.format(params[0], params[1], time() - start)\n",
    "params = list(itertools.product(initial_dims, perplexities))\n",
    "pool = Pool()\n",
    "pool.map(job, params)"
   ]
  },
  {
   "cell_type": "markdown",
   "metadata": {},
   "source": [
    "# script 4: Samples to Audio Spritesheet"
   ]
  },
  {
   "cell_type": "code",
   "execution_count": null,
   "metadata": {
    "ExecuteTime": {
     "end_time": "2018-02-27T03:01:54.354069",
     "start_time": "2018-02-27T03:01:54.348144"
    }
   },
   "outputs": [],
   "source": [
    "total_limit = None # set this to 100 to export 100 samples\n",
    "length_limit = fixed_length # set this to sr/4 to only export 250ms of audio per sample\n",
    "\n",
    "from os.path import join\n",
    "from utils import ffmpeg_save_audio"
   ]
  },
  {
   "cell_type": "code",
   "execution_count": null,
   "metadata": {
    "ExecuteTime": {
     "end_time": "2018-02-27T03:01:54.360958",
     "start_time": "2018-02-27T03:01:54.357480"
    }
   },
   "outputs": [],
   "source": [
    "# %time samples = np.load(join(data_root, 'samples.npy'))"
   ]
  },
  {
   "cell_type": "code",
   "execution_count": null,
   "metadata": {
    "ExecuteTime": {
     "end_time": "2018-02-27T03:02:19.333212",
     "start_time": "2018-02-27T03:01:54.364306"
    }
   },
   "outputs": [],
   "source": [
    "y = samples[:total_limit, :length_limit].reshape(-1)\n",
    "%time ffmpeg_save_audio(data_root + 'spritesheet.mp3', y, sr)"
   ]
  },
  {
   "cell_type": "markdown",
   "metadata": {},
   "source": [
    "# script 5: create analysis.tsv"
   ]
  },
  {
   "cell_type": "code",
   "execution_count": null,
   "metadata": {},
   "outputs": [],
   "source": [
    "# Copyright 2016 Google Inc.\n",
    "# Licensed under the Apache License, Version 2.0 (the \"License\");\n",
    "# you may not use this file except in compliance with the License.\n",
    "# You may obtain a copy of the License at\n",
    "#     http://www.apache.org/licenses/LICENSE-2.0\n",
    "# Unless required by applicable law or agreed to in writing, software\n",
    "# distributed under the License is distributed on an \"AS IS\" BASIS,\n",
    "# WITHOUT WARRANTIES OR CONDITIONS OF ANY KIND, either express or implied.\n",
    "# See the License for the specific language governing permissions and\n",
    "# limitations under the License.\n",
    "\n",
    "import os\n",
    "import librosa\n",
    "import numpy\n",
    "import traceback\n",
    "from multiprocessing import Pool\n",
    "\n",
    "sample_rate = 44100\n",
    "\n",
    "    \n",
    "def scale(arr):\n",
    "    # get the average\n",
    "    avg = numpy.average(arr)\n",
    "    # scale from 20,20000 to 0,1\n",
    "    return (avg - 20) / (20000 - 20)\n",
    "\n",
    "\n",
    "def analyse(file):\n",
    "    y, sr = librosa.load(file, sr=sample_rate, duration=0.25)\n",
    "    centroid = scale(librosa.feature.spectral_centroid(y=y, sr=sr))\n",
    "    bandwidth = scale(librosa.feature.spectral_bandwidth(y=y, sr=sr)) \n",
    "    # rolloff = scale(librosa.feature.spectral_rolloff(y=y, sr=sr))   \n",
    "    # contrast = scale(librosa.feature.spectral_contrast(y=y, sr=sr))   \n",
    "    return numpy.asarray([centroid, bandwidth])\n",
    "\n",
    "kick_values = analyse(\"../ref_sounds/Kick.wav\")\n",
    "snare_values = analyse(\"../ref_sounds/Snare.wav\")\n",
    "hihat_values = analyse(\"../ref_sounds/OpenHihat.wav\")\n",
    "open_values = analyse(\"../ref_sounds/Closed.wav\")\n",
    "\n",
    "\n",
    "def get_distance(test_values):\n",
    "    test_values = numpy.asarray(test_values)\n",
    "    kick_dist = numpy.linalg.norm(test_values - kick_values)\n",
    "    snare_dist = numpy.linalg.norm(test_values - snare_values)\n",
    "    hihat_dist = numpy.linalg.norm(test_values - hihat_values)\n",
    "    open_dist = numpy.linalg.norm(test_values - open_values)\n",
    "    return [kick_dist, snare_dist, hihat_dist, open_dist]\n",
    "\n",
    "# print get_distance(snare_values)\n",
    "\n",
    "def process(file_name):\n",
    "    try:\n",
    "        return get_distance(analyse(data_root + file_name))\n",
    "    except Exception as e:\n",
    "        print('%s: %s' % (file_name, traceback.format_exc()))\n",
    "        raise e\n",
    "\n",
    "if __name__ == \"__main__\":\n",
    "    with open(data_root + \"./filenames.txt\") as file_names:\n",
    "        files = file_names.read().splitlines() \n",
    "\n",
    "        results = []\n",
    "        for f in files:\n",
    "            results += [process(f)]\n",
    "\n",
    "        print \"Done\", len(results)\n",
    "        numpy.savetxt(data_root + \"analysis.tsv\", results, delimiter=\"\\t\", fmt=\"%.6f\")"
   ]
  },
  {
   "cell_type": "markdown",
   "metadata": {},
   "source": [
    "# script 6: split samples (from utils/split.py)"
   ]
  },
  {
   "cell_type": "code",
   "execution_count": null,
   "metadata": {
    "ExecuteTime": {
     "end_time": "2018-02-27T03:02:19.655231",
     "start_time": "2018-02-26T23:53:59.107Z"
    }
   },
   "outputs": [],
   "source": [
    "# Copyright 2016 Google Inc.\n",
    "# Licensed under the Apache License, Version 2.0 (the \"License\");\n",
    "# you may not use this file except in compliance with the License.\n",
    "# You may obtain a copy of the License at\n",
    "#     http://www.apache.org/licenses/LICENSE-2.0\n",
    "# Unless required by applicable law or agreed to in writing, software\n",
    "# distributed under the License is distributed on an \"AS IS\" BASIS,\n",
    "# WITHOUT WARRANTIES OR CONDITIONS OF ANY KIND, either express or implied.\n",
    "# See the License for the specific language governing permissions and\n",
    "# limitations under the License.\n",
    "\n",
    "\n",
    "\n",
    "from pydub import AudioSegment\n",
    "import json\n",
    "import os\n",
    "import numpy\n",
    "import math\n",
    "import re\n",
    "import sys\n",
    "# from AudioNotebooks import config\n",
    "\n",
    "if not os.path.exists(idm_root + \"meta/\"):\n",
    "    print(idm_root + \"meta/\")\n",
    "    os.makedirs(idm_root + \"meta/\")\n",
    "if not os.path.exists(idm_root + \"audio/\"):\n",
    "    os.makedirs(idm_root + \"audio/\")\n",
    "\n",
    "sounds = AudioSegment.from_file(data_root + \"spritesheet.mp3\", format=\"mp3\")\n",
    "\n",
    "print \"len(sounds) = \", len(sounds)\n",
    "print \"samples count apprx. = \", int(len(sounds) / 250)\n",
    "\n",
    "with open(data_root + 'filenames.txt') as file_name_file:\n",
    "    file_names = file_name_file.read().split(\"\\n\")[:-1]\n",
    "\n",
    "# seg_time = config.chunk_ms\n",
    "# seg_time = 250\n",
    "\n",
    "num_samples = len(file_names)\n",
    "num_of_top_tags = 50\n",
    "\n",
    "\n",
    "# num_chunks = config.chunks\n",
    "num_chunks = 30\n",
    "min_split_size = 30\n",
    "\n",
    "print(num_samples)\n",
    "\n",
    "\n",
    "# generate a distribution whose sum is the total number of samples\n",
    "for i in range(1000000):\n",
    "    distribution = numpy.logspace(math.log(min_split_size, 10.0), math.log(min_split_size + i, 10.0), num=num_chunks, base=10.0, endpoint=True, dtype=int)\n",
    "    if sum(distribution) >= num_samples:\n",
    "        diff = sum(distribution) - num_samples\n",
    "        # subtract the diference from the last one\n",
    "        print \"diff =\", diff\n",
    "        distribution[-1] -= diff\n",
    "        break\n",
    "\n",
    "print(sum(distribution))\n",
    "print(len(distribution))\n",
    "print distribution\n",
    "\n",
    "# sys.exit()\n",
    "\n",
    "def combine_json(data_file_names, data_tags, data_coords, data_colors, data_analyses):\n",
    "    meta_data = []\n",
    "    all_tags = []\n",
    "    all_tally = []\n",
    "    tag_list = []\n",
    "    for index in range(len(data_file_names)):\n",
    "        # tag_list = data_tags[index].split()\n",
    "        # tag_list = [i.upper() for i in tag_list]\n",
    "        coord = data_coords[index].split()\n",
    "        coord = [float(i) for i in coord]\n",
    "        color = data_colors[index].split()\n",
    "        color = [float(i) for i in color]\n",
    "        analysis = data_analyses[index].split()\n",
    "        analysis = [float(i) for i in analysis]\n",
    "        meta_data.append({\n",
    "            # \"tags\" : tag_list,\n",
    "            \"color\" : color,\n",
    "            \"coords\" : coord,\n",
    "            \"analysis\" : analysis,\n",
    "#             \"pitch\" : samples_pitches[index],\n",
    "            \"name\" : data_file_names[index],\n",
    "        })\n",
    "        # add the tags to the list\n",
    "    #     for j in range(0, len(tag_list)):\n",
    "    #         tag = tag_list[j].upper()\n",
    "    #         if tag not in all_tags:\n",
    "    #             all_tags.append(tag)\n",
    "    #             all_tally.append(1)\n",
    "    #         else:\n",
    "    #             index = all_tags.index(tag)\n",
    "    #             all_tally[index]+=1\n",
    "\n",
    "    # ordered_index_list = sorted(range(len(all_tally)), key=lambda x: all_tally[x])\n",
    "    # ordered_index_list = ordered_index_list[-num_of_top_tags:]\n",
    "    # ordered_index_list = ordered_index_list[::-1]\n",
    "    autosuggest_list = []\n",
    "\n",
    "    # for k in range(0, len(ordered_index_list)):\n",
    "    #     index = ordered_index_list[k]\n",
    "    #     tag_dict = {}\n",
    "    #     tag_dict[all_tags[index]] = all_tally[index]\n",
    "    #     autosuggest_list.append(tag_dict)\n",
    "\n",
    "    print(\"count: \", len(meta_data))\n",
    "    return {\n",
    "        \"autoSuggest\" : autosuggest_list,\n",
    "        \"metaData\" : meta_data\n",
    "    }\n",
    "\n",
    "# the coordinates\n",
    "with open(data_root + 'tsne/fingerprints.30.30.2d.tsv') as data_file:\n",
    "    coords = data_file.read().split(\"\\n\")\n",
    "\n",
    "with open(data_root + 'tsne/fingerprints.30.30.3d.tsv') as data_file:\n",
    "    colors = data_file.read().split(\"\\n\")\n",
    "\n",
    "with open(data_root + 'analysis.tsv') as data_file:\n",
    "    analyses = data_file.read().split(\"\\n\")\n",
    "\n",
    "# BUG: https://github.com/googlecreativelab/aiexperiments-drum-machine/issues/10\n",
    "# with open('data/tags.tsv') as tag_file:\n",
    "#     tags = tag_file.read().split(\"\\n\")\n",
    "# with open('data/name.tsv') as name_file:\n",
    "#     names = name_file.read().split(\"\\n\")\n",
    "\n",
    "tags = [] * len(file_names)\n",
    "with open(data_root + 'filenames.txt') as file_name_file:\n",
    "    names = file_name_file.read().split(\"\\n\")[:-1]\n",
    "    names = map(lambda x: x.split(\"/\")[-1], names)\n",
    "\n",
    "seg_start = 0\n",
    "\n",
    "for s in range(0, len(distribution)):\n",
    "# for s in range(0, 2):\n",
    "    print \"chunk : \", s\n",
    "\n",
    "    file_name = file_names[seg_start : (seg_start + distribution[s])]\n",
    "    # the tag data\n",
    "    tag = tags[seg_start : (seg_start + distribution[s])]\n",
    "    # the coordinates\n",
    "    coord = coords[seg_start : (seg_start + distribution[s])]\n",
    "    color = colors[seg_start : (seg_start + distribution[s])]\n",
    "    analysis = analyses[seg_start : (seg_start + distribution[s])]\n",
    "    name = names[seg_start : (seg_start + distribution[s])]\n",
    "\n",
    "    print len(name), len(tag), len(coord), len(color), len(analysis)\n",
    "    outString = combine_json(name, tag, coord, color, analysis)\n",
    "\n",
    "    with open(idm_root + \"meta/\" + str(s) + \".json\", 'w+') as outfile:\n",
    "        json.dump(outString, outfile)\n",
    "\n",
    "    # the audio file\n",
    "    seg = sounds[seg_start * seg_time : (seg_start + distribution[s]) * seg_time ]\n",
    "    print \"distribution[s] = \", distribution[s]\n",
    "    print \"len(seg) = \", len(seg), seg_start * seg_time, (seg_start + distribution[s]) * seg_time\n",
    "    seg.export(idm_root + \"audio/\" + str(s) + \".mp3\", format=\"mp3\")\n",
    "    print idm_root + \"audio/\" + str(s) + \".mp3\"\n",
    "\n",
    "    seg_start += distribution[s]\n",
    "\n"
   ]
  },
  {
   "cell_type": "markdown",
   "metadata": {},
   "source": [
    "# script 7: sort sounds, write drum_list.json"
   ]
  },
  {
   "cell_type": "code",
   "execution_count": null,
   "metadata": {},
   "outputs": [],
   "source": [
    "# Copyright 2016 Google Inc.\n",
    "# Licensed under the Apache License, Version 2.0 (the \"License\");\n",
    "# you may not use this file except in compliance with the License.\n",
    "# You may obtain a copy of the License at\n",
    "#     http://www.apache.org/licenses/LICENSE-2.0\n",
    "# Unless required by applicable law or agreed to in writing, software\n",
    "# distributed under the License is distributed on an \"AS IS\" BASIS,\n",
    "# WITHOUT WARRANTIES OR CONDITIONS OF ANY KIND, either express or implied.\n",
    "# See the License for the specific language governing permissions and\n",
    "# limitations under the License.\n",
    "\n",
    "import json\n",
    "\n",
    "with open(data_root + \"analysis.tsv\") as analysis_file:\n",
    "    analyses = analysis_file.read().split(\"\\n\")\n",
    "    kick_like = []\n",
    "    snare_like = []\n",
    "    hh_like = []\n",
    "    openhh_like = []\n",
    "    for anl in analyses[:-1]:\n",
    "        row = anl.split(\"\\t\")\n",
    "        row = list(map(float, row))\n",
    "        kick_like.append(row[0])\n",
    "        snare_like.append(row[1])\n",
    "        hh_like.append(row[2])\n",
    "        openhh_like.append(row[3])\n",
    "\n",
    "    most_kick_like = sorted(range(len(kick_like)), key=lambda k: kick_like[k])\n",
    "    most_snare_like = sorted(range(len(snare_like)), key=lambda k: snare_like[k])\n",
    "    most_hh_like = sorted(range(len(hh_like)), key=lambda k: hh_like[k])\n",
    "    most_openhh_like = sorted(range(len(openhh_like)), key=lambda k: openhh_like[k])\n",
    "\n",
    "    output_dict = dict()\n",
    "    limit = 200\n",
    "    output_dict[\"3\"] = sorted(most_kick_like[:limit])\n",
    "    output_dict[\"2\"] = sorted(most_snare_like[:limit])\n",
    "    output_dict[\"1\"] = sorted(most_hh_like[:limit])\n",
    "    output_dict[\"0\"] = sorted(most_openhh_like[:limit])\n",
    "    with open(idm_root + \"meta/drum_like.json\", \"w\") as drum_json:\n",
    "        json.dump(output_dict, drum_json, indent=4)\n"
   ]
  }
 ],
 "metadata": {
  "kernelspec": {
   "display_name": "Python 2",
   "language": "python",
   "name": "python2"
  },
  "language_info": {
   "codemirror_mode": {
    "name": "ipython",
    "version": 2
   },
   "file_extension": ".py",
   "mimetype": "text/x-python",
   "name": "python",
   "nbconvert_exporter": "python",
   "pygments_lexer": "ipython2",
   "version": "2.7.18"
  }
 },
 "nbformat": 4,
 "nbformat_minor": 1
}
